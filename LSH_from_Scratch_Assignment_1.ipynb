{
  "nbformat": 4,
  "nbformat_minor": 0,
  "metadata": {
    "colab": {
      "name": "LSH from Scratch Assignment.ipynb",
      "provenance": [],
      "collapsed_sections": []
    },
    "kernelspec": {
      "name": "python3",
      "display_name": "Python 3"
    },
    "language_info": {
      "name": "python"
    }
  },
  "cells": [
    {
      "cell_type": "markdown",
      "metadata": {
        "id": "CID_27ISaRpJ"
      },
      "source": [
        "# Implement LSH from scratch\n",
        "\n",
        "In this assignment, you will implement LSH from scratch and predict the labels of the test data. You will then verify the correctness of the your implementation using a \"grader\" function/cell (provided by us) which will match your implmentation.\n",
        "\n",
        "The grader fucntion would help you validate the correctness of your code. \n",
        "\n",
        "Please submit the final Colab notebook in the classroom ONLY after you have verified your code using the grader function/cell.\n",
        "\n",
        "\n",
        "**NOTE: DO NOT change the \"grader\" functions or code snippets written by us.Please add your code in the suggested locations.**\n",
        "\n",
        "Ethics Code:\n",
        "1. You are welcome to read up online resources to implement the code. \n",
        "2. You can also discuss with your classmates on the implmentation over Slack.\n",
        "3. But, the code you wirte and submit should be yours ONLY. Your code will be compared against other stduents' code and online code snippets to check for plagiarism. If your code is found to be plagiarised, you will be awarded zero-marks for all assignments, which have a 10% wieghtage in the final marks for this course."
      ]
    },
    {
      "cell_type": "markdown",
      "metadata": {
        "id": "mR49rnr6ibOX"
      },
      "source": [
        "## Reading the data from csv file"
      ]
    },
    {
      "cell_type": "code",
      "metadata": {
        "colab": {
          "base_uri": "https://localhost:8080/"
        },
        "id": "gXNLRg93cPJN",
        "outputId": "00a6271e-436c-49e1-daf6-2fa4c9689c1f"
      },
      "source": [
        "# Code to mount google drive in case you are loading the data from your google drive\n",
        "from google.colab import drive\n",
        "drive.mount('/content/drive')\n",
        "%cd /content/"
      ],
      "execution_count": 33,
      "outputs": [
        {
          "output_type": "stream",
          "text": [
            "Drive already mounted at /content/drive; to attempt to forcibly remount, call drive.mount(\"/content/drive\", force_remount=True).\n",
            "/content\n"
          ],
          "name": "stdout"
        }
      ]
    },
    {
      "cell_type": "code",
      "metadata": {
        "colab": {
          "base_uri": "https://localhost:8080/",
          "height": 422
        },
        "id": "oA1hSk2odHUy",
        "outputId": "2578df47-d68f-4255-9d8a-52d00e77e1c4"
      },
      "source": [
        "# Loading data from csv file\n",
        "import pandas as pd\n",
        "data_path = '/content/drive/My Drive/Data_Science_Stuff/Python/Colab_books/Machine_Learning/Assignments/lsh_assignment_data.csv'\n",
        "\n",
        "df = pd.read_csv(data_path)\n",
        "df"
      ],
      "execution_count": 34,
      "outputs": [
        {
          "output_type": "execute_result",
          "data": {
            "text/html": [
              "<div>\n",
              "<style scoped>\n",
              "    .dataframe tbody tr th:only-of-type {\n",
              "        vertical-align: middle;\n",
              "    }\n",
              "\n",
              "    .dataframe tbody tr th {\n",
              "        vertical-align: top;\n",
              "    }\n",
              "\n",
              "    .dataframe thead th {\n",
              "        text-align: right;\n",
              "    }\n",
              "</style>\n",
              "<table border=\"1\" class=\"dataframe\">\n",
              "  <thead>\n",
              "    <tr style=\"text-align: right;\">\n",
              "      <th></th>\n",
              "      <th>category</th>\n",
              "      <th>text</th>\n",
              "    </tr>\n",
              "  </thead>\n",
              "  <tbody>\n",
              "    <tr>\n",
              "      <th>0</th>\n",
              "      <td>tech</td>\n",
              "      <td>tv future in the hands of viewers with home th...</td>\n",
              "    </tr>\n",
              "    <tr>\n",
              "      <th>1</th>\n",
              "      <td>business</td>\n",
              "      <td>worldcom boss  left books alone  former worldc...</td>\n",
              "    </tr>\n",
              "    <tr>\n",
              "      <th>2</th>\n",
              "      <td>sport</td>\n",
              "      <td>tigers wary of farrell  gamble  leicester say ...</td>\n",
              "    </tr>\n",
              "    <tr>\n",
              "      <th>3</th>\n",
              "      <td>sport</td>\n",
              "      <td>yeading face newcastle in fa cup premiership s...</td>\n",
              "    </tr>\n",
              "    <tr>\n",
              "      <th>4</th>\n",
              "      <td>entertainment</td>\n",
              "      <td>ocean s twelve raids box office ocean s twelve...</td>\n",
              "    </tr>\n",
              "    <tr>\n",
              "      <th>...</th>\n",
              "      <td>...</td>\n",
              "      <td>...</td>\n",
              "    </tr>\n",
              "    <tr>\n",
              "      <th>2220</th>\n",
              "      <td>NaN</td>\n",
              "      <td>cars pull down us retail figures us retail sal...</td>\n",
              "    </tr>\n",
              "    <tr>\n",
              "      <th>2221</th>\n",
              "      <td>NaN</td>\n",
              "      <td>kilroy unveils immigration policy ex-chatshow ...</td>\n",
              "    </tr>\n",
              "    <tr>\n",
              "      <th>2222</th>\n",
              "      <td>NaN</td>\n",
              "      <td>rem announce new glasgow concert us band rem h...</td>\n",
              "    </tr>\n",
              "    <tr>\n",
              "      <th>2223</th>\n",
              "      <td>NaN</td>\n",
              "      <td>how political squabbles snowball it s become c...</td>\n",
              "    </tr>\n",
              "    <tr>\n",
              "      <th>2224</th>\n",
              "      <td>NaN</td>\n",
              "      <td>souness delight at euro progress boss graeme s...</td>\n",
              "    </tr>\n",
              "  </tbody>\n",
              "</table>\n",
              "<p>2225 rows × 2 columns</p>\n",
              "</div>"
            ],
            "text/plain": [
              "           category                                               text\n",
              "0              tech  tv future in the hands of viewers with home th...\n",
              "1          business  worldcom boss  left books alone  former worldc...\n",
              "2             sport  tigers wary of farrell  gamble  leicester say ...\n",
              "3             sport  yeading face newcastle in fa cup premiership s...\n",
              "4     entertainment  ocean s twelve raids box office ocean s twelve...\n",
              "...             ...                                                ...\n",
              "2220            NaN  cars pull down us retail figures us retail sal...\n",
              "2221            NaN  kilroy unveils immigration policy ex-chatshow ...\n",
              "2222            NaN  rem announce new glasgow concert us band rem h...\n",
              "2223            NaN  how political squabbles snowball it s become c...\n",
              "2224            NaN  souness delight at euro progress boss graeme s...\n",
              "\n",
              "[2225 rows x 2 columns]"
            ]
          },
          "metadata": {
            "tags": []
          },
          "execution_count": 34
        }
      ]
    },
    {
      "cell_type": "code",
      "metadata": {
        "colab": {
          "base_uri": "https://localhost:8080/"
        },
        "id": "cKHb7v5edUiU",
        "outputId": "6bb701b4-7ec9-4a80-f075-4c4076dedfd6"
      },
      "source": [
        "# Data Overiview\n",
        "df['category'].value_counts()"
      ],
      "execution_count": 35,
      "outputs": [
        {
          "output_type": "execute_result",
          "data": {
            "text/plain": [
              "sport            509\n",
              "business         508\n",
              "politics         415\n",
              "tech             399\n",
              "entertainment    384\n",
              "Name: category, dtype: int64"
            ]
          },
          "metadata": {
            "tags": []
          },
          "execution_count": 35
        }
      ]
    },
    {
      "cell_type": "markdown",
      "metadata": {
        "id": "Mcpy_Nrnig9V"
      },
      "source": [
        "### Creating Train and Test Datasets\n",
        "\n",
        "Note that the labels for test data will not be present in the dataset and hence they are mentioned as NaN."
      ]
    },
    {
      "cell_type": "code",
      "metadata": {
        "id": "ncAK-oHFeKbS"
      },
      "source": [
        "# The last 10 rows in the csv file are query points, so loading them into test data.\n",
        "# And loading the reamining points to train_data for which labels are given.\n",
        "\n",
        "train_data = df.iloc[:-10,:]\n",
        "test_data = df.iloc[-10:,:]"
      ],
      "execution_count": 36,
      "outputs": []
    },
    {
      "cell_type": "code",
      "metadata": {
        "colab": {
          "base_uri": "https://localhost:8080/"
        },
        "id": "bs7uYx-1fh66",
        "outputId": "8b1fd185-8d9f-439a-ccd2-e812dfcc5186"
      },
      "source": [
        "# For train_data here the labels are in the column named \"category\".\n",
        "train_data.shape\n",
        "print(train_data[train_data.category.isnull()])"
      ],
      "execution_count": 37,
      "outputs": [
        {
          "output_type": "stream",
          "text": [
            "Empty DataFrame\n",
            "Columns: [category, text]\n",
            "Index: []\n"
          ],
          "name": "stdout"
        }
      ]
    },
    {
      "cell_type": "code",
      "metadata": {
        "colab": {
          "base_uri": "https://localhost:8080/",
          "height": 362
        },
        "id": "fc-SORtAfgqI",
        "outputId": "a9044aed-4973-423e-e71a-eac151978051"
      },
      "source": [
        "test_data"
      ],
      "execution_count": 38,
      "outputs": [
        {
          "output_type": "execute_result",
          "data": {
            "text/html": [
              "<div>\n",
              "<style scoped>\n",
              "    .dataframe tbody tr th:only-of-type {\n",
              "        vertical-align: middle;\n",
              "    }\n",
              "\n",
              "    .dataframe tbody tr th {\n",
              "        vertical-align: top;\n",
              "    }\n",
              "\n",
              "    .dataframe thead th {\n",
              "        text-align: right;\n",
              "    }\n",
              "</style>\n",
              "<table border=\"1\" class=\"dataframe\">\n",
              "  <thead>\n",
              "    <tr style=\"text-align: right;\">\n",
              "      <th></th>\n",
              "      <th>category</th>\n",
              "      <th>text</th>\n",
              "    </tr>\n",
              "  </thead>\n",
              "  <tbody>\n",
              "    <tr>\n",
              "      <th>2215</th>\n",
              "      <td>NaN</td>\n",
              "      <td>junk e-mails on relentless rise spam traffic i...</td>\n",
              "    </tr>\n",
              "    <tr>\n",
              "      <th>2216</th>\n",
              "      <td>NaN</td>\n",
              "      <td>top stars join us tsunami tv show brad pitt  r...</td>\n",
              "    </tr>\n",
              "    <tr>\n",
              "      <th>2217</th>\n",
              "      <td>NaN</td>\n",
              "      <td>rings of steel combat net attacks gambling is ...</td>\n",
              "    </tr>\n",
              "    <tr>\n",
              "      <th>2218</th>\n",
              "      <td>NaN</td>\n",
              "      <td>davies favours gloucester future wales hooker ...</td>\n",
              "    </tr>\n",
              "    <tr>\n",
              "      <th>2219</th>\n",
              "      <td>NaN</td>\n",
              "      <td>beijingers fume over parking fees choking traf...</td>\n",
              "    </tr>\n",
              "    <tr>\n",
              "      <th>2220</th>\n",
              "      <td>NaN</td>\n",
              "      <td>cars pull down us retail figures us retail sal...</td>\n",
              "    </tr>\n",
              "    <tr>\n",
              "      <th>2221</th>\n",
              "      <td>NaN</td>\n",
              "      <td>kilroy unveils immigration policy ex-chatshow ...</td>\n",
              "    </tr>\n",
              "    <tr>\n",
              "      <th>2222</th>\n",
              "      <td>NaN</td>\n",
              "      <td>rem announce new glasgow concert us band rem h...</td>\n",
              "    </tr>\n",
              "    <tr>\n",
              "      <th>2223</th>\n",
              "      <td>NaN</td>\n",
              "      <td>how political squabbles snowball it s become c...</td>\n",
              "    </tr>\n",
              "    <tr>\n",
              "      <th>2224</th>\n",
              "      <td>NaN</td>\n",
              "      <td>souness delight at euro progress boss graeme s...</td>\n",
              "    </tr>\n",
              "  </tbody>\n",
              "</table>\n",
              "</div>"
            ],
            "text/plain": [
              "     category                                               text\n",
              "2215      NaN  junk e-mails on relentless rise spam traffic i...\n",
              "2216      NaN  top stars join us tsunami tv show brad pitt  r...\n",
              "2217      NaN  rings of steel combat net attacks gambling is ...\n",
              "2218      NaN  davies favours gloucester future wales hooker ...\n",
              "2219      NaN  beijingers fume over parking fees choking traf...\n",
              "2220      NaN  cars pull down us retail figures us retail sal...\n",
              "2221      NaN  kilroy unveils immigration policy ex-chatshow ...\n",
              "2222      NaN  rem announce new glasgow concert us band rem h...\n",
              "2223      NaN  how political squabbles snowball it s become c...\n",
              "2224      NaN  souness delight at euro progress boss graeme s..."
            ]
          },
          "metadata": {
            "tags": []
          },
          "execution_count": 38
        }
      ]
    },
    {
      "cell_type": "markdown",
      "metadata": {
        "id": "U1jeyM0emKOw"
      },
      "source": [
        "## Custom Implementation"
      ]
    },
    {
      "cell_type": "markdown",
      "metadata": {
        "id": "AU6mt5wq3Oyg"
      },
      "source": [
        "### Instructions:\n",
        "\n",
        "  1. Read in the train_data.\n",
        "  2. Vectorize train_data using sklearns built in tfidf vectorizer.\n",
        "  3. Ignore unigrams and make use of both **bigrams & trigrams** and also limit the **max features** to **4000** and **minimum document frequency** to **10**.\n",
        "  4. After the tfidf vectors are generated as mentioned above, next task is to generate random hyperplanes.\n",
        "  5. Generate **5 random hyperplanes**. And generate the hyperplanes using a random normal distribution with **mean zero and variance 1**. \n",
        "  6. We have set the **numpy random seed to zero**, please do not change it. And then you can make use of **np.random.normal** to generate the vectors for hyperplanes.\n",
        "  7. As mentioned in the course videos, compute the hash function and also the corresponding hash table for it.\n",
        "  8. Once the hash table is generated now take in each of the query points from the test data.\n",
        "  9. Vectorize those query points using the same tfidf vectorizer as mentioned above.\n",
        "  10. Now use the hash function on this query point and fetch all the similar data points from the hashtable.\n",
        "  11. Use cosine similarity to compute **11-Nearest Neighbours** from the list of data points obtained in the above step.\n",
        "  12. Take a majority vote among the 11-Nearest Neighbours and predict the class label for the query point in the test data.\n",
        "  13. **In case of a tie** in the obtained labels from nearest neighbours, you can pick a label after sorting all the labels **alphabetically**(A-Z), i.e. for example labels starting with A would get more preference than labels starting with Z.\n",
        "  14. Repeat steps 9 to 13 for all the points in the test data and then finally return a list with all the predicted labels.\n",
        "  15. Note that there are a total of 10 data points in the test data so the final list you return should be of length 10.\n",
        "  16. Also note that the cosine similarity function should be written from scratch, you should not directly make use of existing libraries.\n",
        "  17. Please use the formula of cosine similarity as explained in the course videos, you can make use of numpy or scipy to calculate dot or norm or transpose."
      ]
    },
    {
      "cell_type": "code",
      "metadata": {
        "id": "YECivOCWfvGn"
      },
      "source": [
        "# Please implement this fucntion and write your code wherever asked. Do NOT change the code snippets provided by us.\n",
        "\n",
        "import numpy as np\n",
        "\n",
        "def predictLabels (test_data):\n",
        "  \"\"\"\n",
        "  Given the test_data, return the labels for all the rows in the test data.\n",
        "  Follow the step by step instructions mentioned above.\n",
        "  \"\"\"\n",
        "\n",
        "  np.random.seed(0)\n",
        "\n",
        "  ##############################################################\n",
        "  ####  Write YOUR CODE BELOW  as per the above instructions ###\n",
        "  ##############################################################\n",
        "  \n",
        "  #Training data extraction:--\n",
        "  from google.colab import drive\n",
        "  drive.mount('/content/drive')\n",
        "  %cd /content/\n",
        "  data_path = '/content/drive/My Drive/Data_Science_Stuff/Python/Colab_books/Machine_Learning/Assignments/lsh_assignment_data.csv'\n",
        "  train_data = df.iloc[:-10,:]\n",
        "  train_x=train_data[\"text\"]\n",
        "  train_y=train_data[\"category\"]\n",
        "\n",
        "  #Testing data extraction:--\n",
        "  test_x=test_data[\"text\"]\n",
        "  test_y=test_data[\"category\"]\n",
        "\n",
        "\n",
        "  #Tf-Idf vector generating:\n",
        "  def find_tf_idf(corpus,vectors):\n",
        "    from sklearn.feature_extraction.text import TfidfTransformer\n",
        "    from sklearn.feature_extraction.text import TfidfVectorizer\n",
        "\n",
        "    tf_idf_vect=TfidfVectorizer(ngram_range=(2,3), min_df=10,max_features=4000)#Initiate Tf-idf and create object\n",
        "    tf_idf_vect.fit(corpus)#Fit over pre_processed corpus\n",
        "    return tf_idf_vect.transform(vectors)#transform into sparse matrix\n",
        "\n",
        "  #2: Vectorize using inbuilt function:\n",
        "\n",
        "  final_tf_idf=find_tf_idf(train_x,train_x)#To find tf_idf vectors\n",
        "  \n",
        "  #5: Generate 5 random Hyper planes:\n",
        "  hyper_planes=[]\n",
        "  row,dim=(final_tf_idf.shape)\n",
        "  for i in range(0,5):#Last number is excluded\n",
        "    hyper_planes.append(np.random.normal(0,1,dim))\n",
        "\n",
        "  #7 Hash_Function to generate hash_keys:\n",
        "  def hash_func(vector,hyper_planes):\n",
        "    \n",
        "    hash_key=[]\n",
        "    for j in hyper_planes:\n",
        "     WX=np.dot(vector,np.array(j).reshape(len(vector),1))[0]# find dot product hyper plane and vector\n",
        "     if WX<0:#If dot product is negative , encode -1\n",
        "        hash_key.append(-1)\n",
        "     else:#If dot product is positive or Zero , encode +1\n",
        "        hash_key.append(+1)\n",
        "    hash_key=tuple(hash_key)\n",
        "    return hash_key\n",
        "\n",
        "\n",
        "  #7: Generating hash table:\n",
        "  hash_table={}\n",
        "  for i in range(row):#Picks each vector from out-put matrix\n",
        "    hash_key=hash_func(final_tf_idf[i,:].toarray()[0],hyper_planes)\n",
        "    if hash_key in hash_table.keys():\n",
        "      hash_table[hash_key].append(i)\n",
        "    else:\n",
        "      hash_table[hash_key]=[i]\n",
        "\n",
        "\n",
        "  #9: Vectorizing query points:\n",
        "  test_tf_idf=find_tf_idf(train_x,test_x)#To find tf_idf vectors\n",
        "\n",
        "  #10 Hash values for query points:\n",
        "  hash_keys_query=[]\n",
        "  r_test,d_test=(test_tf_idf.shape)\n",
        "  for i in range(r_test):\n",
        "    hash_key_q=hash_func(test_tf_idf[i,:].toarray()[0],hyper_planes)#Generate hash_keys\n",
        "    hash_keys_query.append(hash_key_q)\n",
        "\n",
        "  #Compute cosine similarity:--\n",
        "  def cos_sim(vector1,vector2):\n",
        "    magnitude_1=np.linalg.norm(vector1)\n",
        "    magnitude_2=np.linalg.norm(vector2)\n",
        "    return np.dot(vector1,vector2)/(magnitude_1*magnitude_2)\n",
        "  \n",
        "  #Return dictionary key for a given dictionary value\n",
        "  def get_dict_key(dictionary,value):\n",
        "    key_list=list(dictionary.keys())\n",
        "    value_list=list(dictionary.values())\n",
        "    indices=[]\n",
        "    for v in value_list:#Find indices of the value of interest\n",
        "      if v==value:\n",
        "        indices.append(value_list.index(value))\n",
        "\n",
        "    return [key_list[i] for i in indices]\n",
        "\n",
        "  #Return key with max values/return key in alphabetical order incase of tie in max values\n",
        "  def get_major_keys(dictionary):\n",
        "    values=dictionary.values()\n",
        "    max_count=max(values)\n",
        "    return get_dict_key(dictionary,max_count)\n",
        "\n",
        "\n",
        "  #11 Find 11 nearest neighbors for each query point\n",
        "  nearest_neighbors={}# Stored in format:keys--> query table row, values-->(neighbor vector row,cosine_sim)\n",
        "\n",
        "  for query_row,hash_key in enumerate(hash_keys_query):\n",
        "    if hash_key in hash_table:#find the relevant bucket in hash table\n",
        "      bucket_vecs=hash_table[hash_key]#find relevant bucket in hash table\n",
        "\n",
        "      cosine_sim={}#Collect cosine_similarties with all bucket vectors in format:keys-->dataset row, values-->cosine similarities\n",
        "      for data_row in bucket_vecs:\n",
        "        cs=cos_sim(final_tf_idf[data_row,:].toarray()[0],test_tf_idf[query_row,:].toarray()[0])\n",
        "        cosine_sim[data_row]=cs\n",
        "\n",
        "      #To find top 11 neighbors and their similarities for given query point\n",
        "      cs_vals=sorted(cosine_sim.values())[:-12:-1]#sort the list in descending order\n",
        "\n",
        "      for value in cs_vals:\n",
        "        key=get_dict_key(cosine_sim, value)[0]\n",
        "        if query_row in nearest_neighbors.keys():\n",
        "          nearest_neighbors[query_row].append((key,value))\n",
        "        else:\n",
        "          nearest_neighbors[query_row]=[(key,value)]\n",
        "\n",
        "    else:\n",
        "      print(\"Point\",hash_keys_query.index(i),\"cannot fit in hash table!\")\n",
        "\n",
        "\n",
        "\n",
        "  #12 Majority vote amongst 11 nearest neighbors:\n",
        "  major_class={}#dictionary of test classes in format:keys--> query table row, values-->major class\n",
        "  for query_row in nearest_neighbors.keys():\n",
        "\n",
        "    class_count={\"sport\":0,\"business\":0,\"politics\":0,\"tech\":0,\"entertainment\":0}#Dictionary of classes\n",
        "    for data_row,_ in nearest_neighbors[query_row]:#Count classes\n",
        "      label=train_y.iloc[data_row]\n",
        "      if label in class_count.keys() :\n",
        "        class_count[label]=class_count[label]+1\n",
        "      else:\n",
        "        print(\"Label not available!\")\n",
        "  \n",
        "    #15 To find classes\n",
        "    major_class[query_row]=get_major_keys(class_count)[0]\n",
        "\n",
        "  return list(major_class.values())\n"
      ],
      "execution_count": 53,
      "outputs": []
    },
    {
      "cell_type": "markdown",
      "metadata": {
        "id": "rhnngvQkrnBB"
      },
      "source": [
        "## Grader Cell\n",
        "\n",
        "Please execute the following Grader cell to verify the correctness of your above implementation. This cell will print \"Success\" if your implmentation of the predictLabels() is correct, else, it will print \"Failed\". Make sure you get a \"Success\" before you submit the code in the classroom."
      ]
    },
    {
      "cell_type": "code",
      "metadata": {
        "id": "GX1sji2XrtmX",
        "colab": {
          "base_uri": "https://localhost:8080/"
        },
        "outputId": "98259965-cbf5-4add-8767-34a1524c078e"
      },
      "source": [
        "###########################################\n",
        "## GRADER CELL: Do NOT Change this.\n",
        "# This cell will print \"Success\" if your implmentation of the predictLabels() is correct and the accuracy obtained is above 80%.\n",
        "# Else, it will print \"Failed\"\n",
        "###########################################\n",
        "import numpy as np\n",
        "\n",
        "# Predict the labels using the predictLabels() function\n",
        "Y_custom = np.array(predictLabels(test_data))\n",
        "\n",
        "# Reference grader array - DO NOT MODIFY IT\n",
        "Y_grader = np.array(['tech', 'entertainment', 'tech', 'sport', 'business', 'business', 'politics', 'entertainment', 'politics', 'sport'])\n",
        "\n",
        "# Calculating accuracy by comparing Y_grader and Y_custom\n",
        "accuracy = np.sum(Y_grader==Y_custom) * 10\n",
        "\n",
        "if accuracy >= 80:\n",
        "  print(\"******** Success ********\",\"Accuracy Achieved = \", accuracy,'%')\n",
        "else:\n",
        "  print(\"####### Failed #######\",\"Accuracy Achieved = \", accuracy,'%')\n",
        "  print(\"\\nY_grader = \\n\\n\", Y_grader)\n",
        "  print(\"\\n\",\"*\"*50)\n",
        "  print(\"\\nY_custom = \\n\\n\", Y_custom)\n"
      ],
      "execution_count": 54,
      "outputs": [
        {
          "output_type": "stream",
          "text": [
            "Drive already mounted at /content/drive; to attempt to forcibly remount, call drive.mount(\"/content/drive\", force_remount=True).\n",
            "/content\n",
            "******** Success ******** Accuracy Achieved =  90 %\n"
          ],
          "name": "stdout"
        }
      ]
    },
    {
      "cell_type": "code",
      "metadata": {
        "id": "Dwlh6pTVJO-A"
      },
      "source": [
        ""
      ],
      "execution_count": 10,
      "outputs": []
    }
  ]
}